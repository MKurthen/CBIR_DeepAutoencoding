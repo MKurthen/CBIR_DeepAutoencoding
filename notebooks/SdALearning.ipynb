{
 "cells": [
  {
   "cell_type": "code",
   "execution_count": 4,
   "metadata": {
    "scrolled": true
   },
   "outputs": [
    {
     "name": "stdout",
     "output_type": "stream",
     "text": [
      "... building the model\n"
     ]
    }
   ],
   "source": [
    "import os\n",
    "import sys\n",
    "import timeit\n",
    "\n",
    "import h5py\n",
    "import numpy as np\n",
    "import theano\n",
    "import theano.tensor as T\n",
    "from theano.tensor.shared_randomstreams import RandomStreams\n",
    "\n",
    "sys.path.append('../')\n",
    "sys.path.append('../deep_learning/')\n",
    "\n",
    "from deep_learning.classes_and_functions import Linear_SdA\n",
    "from deep_learning.logistic_sgd import load_data\n",
    "from deep_learning.utils import tile_raster_images\n",
    "from deep_learning.dA import dA\n",
    "from deep_learning.SdA import SdA\n",
    "\n",
    "try:\n",
    "    import PIL.Image as Image\n",
    "except ImportError:\n",
    "    import Image\n",
    "\n",
    "\n",
    "pretrain_lr=0.1\n",
    "pretrain_lr_binary = 1e-2\n",
    "\n",
    "batch_size=128\n",
    "\n",
    "with h5py.File('../flickr_32x32.hdf5') as f:\n",
    "    X = f['X'][:] \n",
    "\n",
    "X_std = np.std(X)\n",
    "X_mean = np.mean(X)\n",
    "X = (X-X_mean) / X_std\n",
    "\n",
    "train_set_x = X[:24000] \n",
    "valid_set_x = X[24000:24500]\n",
    "test_set_x = X[24500:25000]\n",
    "\n",
    "\n",
    "\n",
    "train_set_x = theano.shared(numpy.asarray(train_set_x,\n",
    "                                               dtype=theano.config.floatX),\n",
    "                                 borrow=True)\n",
    "\n",
    "valid_set_x = theano.shared(numpy.asarray(valid_set_x,\n",
    "                                               dtype=theano.config.floatX),\n",
    "                                 borrow=True)\n",
    "\n",
    "test_set_x = theano.shared(numpy.asarray(test_set_x,\n",
    "                                               dtype=theano.config.floatX),\n",
    "                                 borrow=True)\n",
    "\n",
    "datasets = (train_set_x, valid_set_x, test_set_x)\n",
    "\n",
    "# compute number of minibatches for training, validation and testing\n",
    "n_train_batches = train_set_x.get_value(borrow=True).shape[0] // batch_size\n",
    "\n",
    "numpy_rng = numpy.random.RandomState(89677)\n",
    "print ('... building the model')\n",
    "# construct the stacked denoising autoencoder class\n",
    "sda = Linear_SdA(\n",
    "    numpy_rng=numpy_rng,\n",
    "    n_ins=32*32*3,\n",
    "    hidden_layers_sizes=[8192, 4096, 2048, 1024, 512, 256]\n",
    ")"
   ]
  },
  {
   "cell_type": "code",
   "execution_count": null,
   "metadata": {},
   "outputs": [
    {
     "name": "stdout",
     "output_type": "stream",
     "text": [
      "... getting the pretraining functions\n"
     ]
    },
    {
     "name": "stderr",
     "output_type": "stream",
     "text": [
      "../deep_learning/classes_and_functions.py:303: UserWarning: The Param class is deprecated. Replace Param(default=N) by theano.In(value=N)\n",
      "  theano.Param(corruption_level, default=0.2),\n",
      "../deep_learning/classes_and_functions.py:304: UserWarning: The Param class is deprecated. Replace Param(default=N) by theano.In(value=N)\n",
      "  theano.Param(learning_rate, default=0.1)\n"
     ]
    },
    {
     "name": "stdout",
     "output_type": "stream",
     "text": [
      "... pre-training the linear-binary layer\n",
      "Pre-training layer 0, epoch 0, cost 2.167951\n",
      "Pre-training layer 0, epoch 1, cost 2.102736\n",
      "Pre-training layer 0, epoch 2, cost 2.059220\n",
      "Pre-training layer 0, epoch 3, cost 2.025874\n",
      "Pre-training layer 0, epoch 4, cost 1.999170\n",
      "Pre-training layer 0, epoch 5, cost 1.976729\n",
      "Pre-training layer 0, epoch 6, cost 1.956926\n",
      "Pre-training layer 0, epoch 7, cost 1.939409\n",
      "Pre-training layer 0, epoch 8, cost 1.923809\n",
      "Pre-training layer 0, epoch 9, cost 1.908960\n",
      "Pre-training layer 0, epoch 10, cost 1.895483\n",
      "Pre-training layer 0, epoch 11, cost 1.882758\n",
      "Pre-training layer 0, epoch 12, cost 1.871038\n",
      "Pre-training layer 0, epoch 13, cost 1.859858\n",
      "Pre-training layer 0, epoch 14, cost 1.849210\n",
      "Pre-training layer 0, epoch 15, cost 1.839240\n",
      "Pre-training layer 0, epoch 16, cost 1.829678\n",
      "Pre-training layer 0, epoch 17, cost 1.820042\n",
      "Pre-training layer 0, epoch 18, cost 1.811433\n"
     ]
    }
   ],
   "source": [
    "pretraining_epochs = 500\n",
    "pretrain_lr=0.1\n",
    "\n",
    "print ('... getting the pretraining functions')\n",
    "pretraining_fns = sda.pretraining_functions(train_set_x=train_set_x,\n",
    "                                            batch_size=batch_size)\n",
    "print ('... pre-training the linear-binary layer')\n",
    "start_time = timeit.default_timer()\n",
    "## Pre-train layer-wise\n",
    "corruption_levels = [.3, .2, .1, .05, .025, .01]\n",
    "for i in range(0,1):\n",
    "    # go through pretraining epochs\n",
    "    for epoch in range(pretraining_epochs):\n",
    "        # go through the training set\n",
    "        c = []\n",
    "        for batch_index in range(n_train_batches):\n",
    "            c.append(pretraining_fns[i](index=batch_index,\n",
    "                     corruption=corruption_levels[i],\n",
    "                     lr=pretrain_lr))\n",
    "        print('Pre-training layer %i, epoch %d, cost %f' % (i, epoch, numpy.mean(c) ))\n",
    "\n",
    "end_time = timeit.default_timer()"
   ]
  },
  {
   "cell_type": "code",
   "execution_count": null,
   "metadata": {},
   "outputs": [],
   "source": [
    "#pretrain binary layers\n",
    "print ('... pre-training the binary-binary layers')\n",
    "pretraining_epochs = 300\n",
    "pretrain_lr_binary = 1e-2\n",
    "\n",
    "for i in range(1,sda.n_layers):\n",
    "    # go through pretraining epochs\n",
    "    for epoch in range(pretraining_epochs):\n",
    "        # go through the training set\n",
    "        c = []\n",
    "        for batch_index in range(n_train_batches):\n",
    "            c.append(pretraining_fns[i](index=batch_index,\n",
    "                     corruption=corruption_levels[i],\n",
    "                     lr=pretrain_lr_binary))\n",
    "        print_and_log('Pre-training layer %i, epoch %d, cost %f' % (i, epoch, numpy.mean(c) ))\n",
    "        \n",
    "end_time = timeit.default_timer()"
   ]
  },
  {
   "cell_type": "code",
   "execution_count": null,
   "metadata": {
    "collapsed": true
   },
   "outputs": [],
   "source": []
  }
 ],
 "metadata": {
  "kernelspec": {
   "display_name": "Python 3",
   "language": "python",
   "name": "python3"
  },
  "language_info": {
   "codemirror_mode": {
    "name": "ipython",
    "version": 3
   },
   "file_extension": ".py",
   "mimetype": "text/x-python",
   "name": "python",
   "nbconvert_exporter": "python",
   "pygments_lexer": "ipython3",
   "version": "3.5.4"
  }
 },
 "nbformat": 4,
 "nbformat_minor": 1
}
