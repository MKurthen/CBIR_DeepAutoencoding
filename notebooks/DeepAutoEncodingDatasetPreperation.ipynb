{
 "cells": [
  {
   "cell_type": "markdown",
   "metadata": {},
   "source": [
    "# Prepare Datasets for Deep Autoencoding\n",
    "## Create database with resized images\n",
    "#### 128x128px"
   ]
  },
  {
   "cell_type": "code",
   "execution_count": 11,
   "metadata": {},
   "outputs": [],
   "source": [
    "#prepare 32x32px and 128x128px images\n",
    "import os\n",
    "import PIL\n",
    "import matplotlib.pyplot as plt\n",
    "%matplotlib inline\n",
    "\n",
    "flickr_images = [file for file in os.listdir('../mirflickr25k/mirflickr/') if file.endswith('jpg')]\n",
    "for image in flickr_images:\n",
    "    im = PIL.Image.open(\n",
    "        os.path.join('../mirflickr25k/mirflickr/', image))\n",
    "    im = im.resize((128, 128))\n",
    "    im.save(os.path.join('../flickr_128x128', image), format='png')"
   ]
  },
  {
   "cell_type": "markdown",
   "metadata": {},
   "source": [
    "#### 32x32px"
   ]
  },
  {
   "cell_type": "code",
   "execution_count": 13,
   "metadata": {},
   "outputs": [],
   "source": [
    "for image in flickr_images:\n",
    "    im = PIL.Image.open(\n",
    "        os.path.join('../mirflickr25k/mirflickr/', image))\n",
    "    im = im.resize((32, 32))\n",
    "    im.save(os.path.join('../flickr_32x32', image), format='png')"
   ]
  },
  {
   "cell_type": "markdown",
   "metadata": {},
   "source": [
    "#### create hdf5 files"
   ]
  },
  {
   "cell_type": "code",
   "execution_count": 18,
   "metadata": {},
   "outputs": [],
   "source": [
    "import h5py\n",
    "import skimage.io\n",
    "\n",
    "image_paths_32px = os.listdir('../flickr_32x32/')\n",
    "image_paths_32px = ['../flickr_32x32/' + x for x in image_paths_32px]\n",
    "\n",
    "with h5py.File('../flickr_32x32.hdf5') as f:\n",
    "    X = f.create_dataset(name = 'X', shape=(25000, 32*32*3))\n",
    "    for i in range(25000):\n",
    "        X[i] = skimage.io.imread(image_paths_32px[i]).reshape(32*32*3)\n",
    "        \n",
    "image_paths_128px = os.listdir('../flickr_128x128/')\n",
    "image_paths_128px = ['../flickr_128x128/' + x for x in image_paths_128px]\n",
    "with h5py.File('../flickr_128x128.hdf5') as f:\n",
    "    X = f.create_dataset(name = 'X', shape=(25000,128*128*3))\n",
    "    for i in range(25000):\n",
    "        X[i] = skimage.io.imread(image_paths_128px[i]).reshape(128*128*3)"
   ]
  },
  {
   "cell_type": "code",
   "execution_count": null,
   "metadata": {},
   "outputs": [],
   "source": []
  }
 ],
 "metadata": {
  "kernelspec": {
   "display_name": "Python 3",
   "language": "python",
   "name": "python3"
  },
  "language_info": {
   "codemirror_mode": {
    "name": "ipython",
    "version": 3
   },
   "file_extension": ".py",
   "mimetype": "text/x-python",
   "name": "python",
   "nbconvert_exporter": "python",
   "pygments_lexer": "ipython3",
   "version": "3.5.4"
  }
 },
 "nbformat": 4,
 "nbformat_minor": 2
}
