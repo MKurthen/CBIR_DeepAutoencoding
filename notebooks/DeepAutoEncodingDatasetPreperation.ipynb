{
 "cells": [
  {
   "cell_type": "markdown",
   "metadata": {},
   "source": [
    "# Prepare Datasets for Deep Autoencoding\n",
    "## Create database with resized images\n",
    "#### imports and loading dataset index\n"
   ]
  },
  {
   "cell_type": "code",
   "execution_count": 6,
   "metadata": {},
   "outputs": [],
   "source": [
    "import os\n",
    "import PIL\n",
    "import matplotlib.pyplot as plt\n",
    "%matplotlib inline\n",
    "\n",
    "flickr_index = np.genfromtxt('../flickr_index.txt', dtype = 'str')"
   ]
  },
  {
   "cell_type": "markdown",
   "metadata": {},
   "source": [
    "#### 128x128px"
   ]
  },
  {
   "cell_type": "code",
   "execution_count": 11,
   "metadata": {},
   "outputs": [],
   "source": [
    "flickr_images = [file for file in os.listdir('../mirflickr25k/mirflickr/') if file.endswith('jpg')]\n",
    "for image in flickr_index:\n",
    "    im = PIL.Image.open(\n",
    "        os.path.join('../mirflickr25k/mirflickr/', image))\n",
    "    im = im.resize((128, 128))\n",
    "    im.save(os.path.join('../flickr_128x128', image), format='png')"
   ]
  },
  {
   "cell_type": "markdown",
   "metadata": {},
   "source": [
    "#### 32x32px"
   ]
  },
  {
   "cell_type": "code",
   "execution_count": 7,
   "metadata": {},
   "outputs": [],
   "source": [
    "for image in flickr_index:\n",
    "    im = PIL.Image.open(\n",
    "        os.path.join('../deep_learning_data/mirflickr/', image))\n",
    "    im = im.resize((32, 32))\n",
    "    im.save(os.path.join('../deep_learning_data/flickr_32x32', image), format='png')"
   ]
  },
  {
   "cell_type": "markdown",
   "metadata": {},
   "source": [
    "#### create hdf5 files"
   ]
  },
  {
   "cell_type": "code",
   "execution_count": 8,
   "metadata": {},
   "outputs": [],
   "source": [
    "import h5py\n",
    "import skimage.io\n",
    "\n",
    "image_paths_32px = ['../deep_learning_data/flickr_32x32/' + x for x in flickr_index]\n",
    "\n",
    "with h5py.File('../deep_learning_data/flickr_32x32_2.hdf5') as f:\n",
    "    X = f.create_dataset(name = 'X', shape=(25000, 32*32*3))\n",
    "    for i in range(25000):\n",
    "        X[i] = skimage.io.imread(image_paths_32px[i]).reshape(32*32*3)\n",
    "        \n",
    "#image_paths_128px = os.listdir('../flickr_128x128/')\n",
    "#image_paths_128px = ['../deflickr_128x128/' + x for x in flickr_index]\n",
    "#with h5py.File('../flickr_128x128.hdf5_2') as f:\n",
    "#    X = f.create_dataset(name = 'X', shape=(25000,128*128*3))\n",
    "#    for i in range(25000):\n",
    "#        X[i] = skimage.io.imread(image_paths_128px[i]).reshape(128*128*3)"
   ]
  },
  {
   "cell_type": "markdown",
   "metadata": {},
   "source": [
    "### variable resolution retina patches\n",
    "these patches are of the form:\n",
    "    ########\n",
    "    ########\n",
    "    ##xxxx##\n",
    "    ##xxxx##\n",
    "    ##xxxx##\n",
    "    ##xxxx##\n",
    "    ########\n",
    "    ########\n",
    "where each x are 2x2 pixels and the # are one pixel each "
   ]
  },
  {
   "cell_type": "code",
   "execution_count": null,
   "metadata": {
    "scrolled": false
   },
   "outputs": [],
   "source": [
    "import h5py\n",
    "from skimage.transform import resize\n",
    "from skimage.io import imread\n",
    "import numpy as np\n",
    "\n",
    "image_list = np.genfromtxt('../flickr_index.txt', dtype = 'str')\n",
    "index = 0\n",
    "\n",
    "with h5py.File('../deep_learning_data/flickr_32x32_varpatches.hdf5') as f:\n",
    "    X = f.create_dataset(name = 'X', shape=(25000*9*9,112*3) ) \n",
    "    for patch_index_upper in range(0,17,2):\n",
    "        print('processing patch y pos {} / 17'.format(patch_index_upper))\n",
    "        for patch_index_left in range(0,17,2):\n",
    "            for i in range(25000):                    \n",
    "                img = resize(imread('../deep_learning_data/mirflickr/' + image_list[i]), (32,32))             \n",
    "                patch = img[patch_index_upper:patch_index_upper+16,patch_index_left:patch_index_left+16,:]\n",
    "                patch_inner = patch[4:12,4:12,:].reshape(64*3)\n",
    "                patch_low_res = resize(patch, (8,8))\n",
    "                patch_outer = np.hstack((\n",
    "                    patch_low_res[0:2,:,:].reshape(2*8*3),\n",
    "                    np.hstack(\n",
    "                            (patch_low_res[3:7,0:2,:], patch_low_res[3:7,6:8,:]) \n",
    "                            ).reshape(4*4*3),\n",
    "                    patch_low_res[6:8,:,:].reshape(2*8*3) )\n",
    "                                        )\n",
    "                patch_var_res = np.hstack((patch_inner, patch_outer))\n",
    "                X[index] = patch_var_res\n",
    "                index += 1"
   ]
  },
  {
   "cell_type": "code",
   "execution_count": null,
   "metadata": {},
   "outputs": [],
   "source": []
  }
 ],
 "metadata": {
  "kernelspec": {
   "display_name": "Python 3",
   "language": "python",
   "name": "python3"
  },
  "language_info": {
   "codemirror_mode": {
    "name": "ipython",
    "version": 3
   },
   "file_extension": ".py",
   "mimetype": "text/x-python",
   "name": "python",
   "nbconvert_exporter": "python",
   "pygments_lexer": "ipython3",
   "version": "3.6.3"
  }
 },
 "nbformat": 4,
 "nbformat_minor": 2
}
